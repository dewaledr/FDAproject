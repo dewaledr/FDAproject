{
 "cells": [
  {
   "cell_type": "markdown",
   "metadata": {},
   "source": [
    "# Box Plot in data analysis\n",
    "## Abstract\n",
    "The box plot is common in data analysis for investigating individual numerical variables.\n",
    "For data analysis, the boxplot function from the Python package matplotlib.pyplot can be used to create box plots.\n",
    "## In this project, we tried to:\n",
    "Investigate and explain box plots and their uses through the following method: \n",
    "1.\tSummarize the history of the box plot and situations in which it used.\n",
    "2.\tDemonstrate the use of the box plot using data of our choosing\n",
    "3.\tExplain any relevant terminology such as the terms quartile and percentile\n",
    "4.\tCompare the box plot to alternatives, for example – beanplots, histograms, etc.\n",
    "\n",
    "# Submitted by: Francis Adepoju (G00364694)\n"
   ]
  },
  {
   "cell_type": "code",
   "execution_count": null,
   "metadata": {},
   "outputs": [],
   "source": []
  }
 ],
 "metadata": {
  "kernelspec": {
   "display_name": "Python 3",
   "language": "python",
   "name": "python3"
  },
  "language_info": {
   "codemirror_mode": {
    "name": "ipython",
    "version": 3
   },
   "file_extension": ".py",
   "mimetype": "text/x-python",
   "name": "python",
   "nbconvert_exporter": "python",
   "pygments_lexer": "ipython3",
   "version": "3.7.0"
  }
 },
 "nbformat": 4,
 "nbformat_minor": 2
}
