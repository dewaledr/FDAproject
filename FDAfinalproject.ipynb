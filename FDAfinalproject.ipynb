{
 "cells": [
  {
   "cell_type": "markdown",
   "metadata": {},
   "source": [
    "# Box Plot in data analysis\n",
    "## Abstract\n",
    "The box plot is common in data analysis for investigating individual numerical variables.\n",
    "For data analysis, the boxplot function from the Python package matplotlib.pyplot can be used to create box plots.\n",
    "## In this project, we tried to:\n",
    "Investigate and explain box plots and their uses through the following method: \n",
    "1.\tSummarize the history of the box plot and situations in which it used.\n",
    "2.\tDemonstrate the use of the box plot using data of our choosing\n",
    "3.\tExplain any relevant terminology such as the terms quartile and percentile\n",
    "4.\tCompare the box plot to alternatives, for example – histograms, kde, etc.\n",
    "\n",
    "# Submitted by: Francis Adepoju (G00364694)\n"
   ]
  },
  {
   "cell_type": "markdown",
   "metadata": {},
   "source": [
    "# boxplot\n",
    "1. In descriptive statistics, a box plot or boxplot is a method for graphically depicting groups of numerical data through their quartiles (identified by minimum, first quartile, median, third quartile, and maximum). \n",
    "2. Box plots may also have lines extending vertically from the boxes (whiskers) indicating variability outside the upper and lower quartiles, hence the terms box-and-whisker plot and box-and-whisker diagram. \n",
    "3. Outliers may be plotted as individual points. \n",
    "4. Box plots are non-parametric: they display variation in samples of a statistical population without making any assumptions of the underlying statistical distribution (though Tukey's boxplot assumes symmetry for the whiskers and normality for their length). \n",
    "5. The spacings between the different parts of the box indicate the degree of dispersion (spread) and skewness in the data, and show outliers. Outliers may be plotted as individual points.\n",
    "6. In addition to the points themselves, they allow one to visually estimate various L-estimators, notably the interquartile range, midhinge, range, mid-range, and trimean. \n",
    "7. Box plots can be drawn either horizontally or vertically. Box plots received their name from the box in the middle\n",
    "  \n",
    "# Box Plot for the Display of Distribution\n",
    "\n",
    "- The box plot (a.k.a. box and whisker diagram) is a standardized way of displaying the distribution of data based on the five number summary: \n",
    "- minimum, first quartile, median, third quartile, and maximum. \n",
    "- In the simplest box plot the central rectangle spans the first quartile to the third quartile (the interquartile range or IQR). A segment inside the rectangle shows the median and \"whiskers\" above and below the box show the locations of the minimum and maximum.\n",
    "- The components of box plots are as shown in this picture – [1, 2]"
   ]
  },
  {
   "cell_type": "markdown",
   "metadata": {},
   "source": [
    "![IQR1 pic](https://github.com/dewaledr/images/blob/master/IQR1.PNG?raw=true)"
   ]
  },
  {
   "cell_type": "markdown",
   "metadata": {},
   "source": [
    "![IQR1b Swarm](https://github.com/dewaledr/images/blob/master/IQR1b.PNG?raw=true)"
   ]
  },
  {
   "cell_type": "markdown",
   "metadata": {},
   "source": [
    "The simple box plots shown above displays the full range of variation (from min to max), the likely range of variation (the IQR), and a typical value (the median). Often, real datasets will display surprisingly high maximums or surprisingly low minimums called outliers. \n",
    "#### John Tukey has provided a precise definition for two types of outliers: \n",
    "1. Outliers are either 3×IQR or more above the third quartile or 3×IQR or more below the first quartile. \n",
    "2. Suspected outliers are are slightly more central versions of outliers: either 1.5×IQR or more above the third quartile or 1.5×IQR or more below the first quartile. \n",
    "3. If either type of outlier is present the whisker on the appropriate side is taken to 1.5×IQR from the quartile (the \"inner fence\") rather than the max or min, and individual outlying data points are displayed as unfilled circles (for suspected outliers) or filled circles (for outliers). (The \"outer fence\" is 3×IQR from the quartile.)\n",
    "4. If the data happens to be normally distributed,  IQR = 1.35σ \n",
    "(where σ is the population standard deviation). \n",
    "5. Outliers are expected in normally distributed datasets with more than about 10,000 data-points. \n",
    "6. Note that outliers are not necessarily \"bad\" data-points; indeed they may well be the most important, most information- rich, part of the dataset. Under no circumstances should they be automatically removed from the dataset. Outliers may deserve special consideration: they may be the key to the phenomenon under study or the result of human blunders.\n",
    "\n",
    "### One case of particular concern \n",
    "1. Where a box plot can be deceptive: is when the data are distributed into \"two lumps\" rather than the \"one lump\". A \"bee swarm\" plot shown below indicates that in the dataset there are lots of data near 10 and 15 but relatively few in between. See that a box plot would not give you any evidence of this. \n"
   ]
  },
  {
   "cell_type": "markdown",
   "metadata": {},
   "source": [
    "![IQR2 bee swarm](https://github.com/dewaledr/images/blob/master/IQR2b.png?raw=true)"
   ]
  },
  {
   "cell_type": "markdown",
   "metadata": {},
   "source": [
    "## mapping the box plot to statistical probabilty density function."
   ]
  },
  {
   "cell_type": "markdown",
   "metadata": {},
   "source": [
    "Figure below shows a view of the box plot against the probability density function (theoretical histogram) for a normal N(0,1σ2) distribution \n",
    "- This was culled from wiki to explain boxplot from the point of view of conventional statistical distribution.\n",
    "[3]"
   ]
  },
  {
   "cell_type": "markdown",
   "metadata": {},
   "source": [
    "![IQR3 Mapping](https://github.com/dewaledr/images/blob/master/IQR3.PNG?raw=true)"
   ]
  },
  {
   "cell_type": "markdown",
   "metadata": {},
   "source": [
    "In Probability and Statistics there is often a need to measure Quartiles and Inter Quartiles Range in a data set\n",
    "Box plots shows these very clearly compared to other statistics figures. Consider the following dataset as an example:\n"
   ]
  },
  {
   "cell_type": "markdown",
   "metadata": {},
   "source": [
    "Another way to describe data is through quartiles and the interquartile range(IQR)\n",
    "This has the advantage that every data point is considered, not aggregated!\n",
    "This is achieved by:\n",
    "1. Divide the series\n",
    "2. Divide each subseries\n",
    "3. These become quartiles"
   ]
  },
  {
   "cell_type": "markdown",
   "metadata": {},
   "source": [
    "![IQRdata2 Example](https://github.com/dewaledr/images/blob/master/IQRdata2.PNG?raw=true)"
   ]
  },
  {
   "cell_type": "markdown",
   "metadata": {},
   "source": [
    "From the example dataset shown next:\n",
    "- 1st quartile == 14\n",
    "- 2nd quartile == 22\n",
    "- 3rd quartile == 35"
   ]
  },
  {
   "cell_type": "markdown",
   "metadata": {},
   "source": [
    "## Fences & Outliers\n",
    "### What is considered an “outlier”?\n",
    "- Anything outside the fence is an outlier\n",
    "- A common practice is to set a \"fence\" that is 1.5 times the width of the IQR\n",
    "- Strictly speaking, this is determined by the data, not an arbitrary percentage!\n",
    "\n",
    "- As shown below, when drawing box plots, the whiskers are brought inward to the outermost values inside the fence."
   ]
  },
  {
   "cell_type": "markdown",
   "metadata": {},
   "source": [
    "![IQRdata3 Example](https://github.com/dewaledr/images/blob/master/IQRdata3.PNG?raw=true)"
   ]
  },
  {
   "cell_type": "markdown",
   "metadata": {},
   "source": [
    "# Example boxplot:\n",
    "REF: IntelliJ IDEA - [5]"
   ]
  },
  {
   "cell_type": "code",
   "execution_count": 11,
   "metadata": {},
   "outputs": [
    {
     "data": {
      "image/png": "[encoded data removed]",
      "text/plain": [
       "<Figure size 432x288 with 1 Axes>"
      ]
     },
     "metadata": {
      "needs_background": "light"
     },
     "output_type": "display_data"
    }
   ],
   "source": [
    "# Create box plot in python with fills and labels:\n",
    "\n",
    "import matplotlib.pyplot as plt\n",
    " \n",
    "value1 = [82,76,24,40,67,62,75,78,71,32,98,89,78,67,72,82,87,66,56,52]\n",
    "value2 = [62,5,91,25,36,32,96,95,3,90,95,32,27,55,100,15,71,11,37,21]\n",
    "value3 = [23,89,12,78,72,89,25,69,68,86,19,49,15,16,16,75,65,31,25,52]\n",
    "value4 = [59,73,70,16,81,61,88,98,10,87,29,72,16,23,72,88,78,99,75,30]\n",
    "\n",
    "# boxplot() function takes the data array to be plotted as input in first argument, \n",
    "# second argument patch_artist=True , fills the boxplot and third argument takes the label to be plotted.\n",
    "box_plot_data = [value1,value2,value3,value4]\n",
    "plt.boxplot(box_plot_data, patch_artist=True, labels=['course1','course2','course3','course4'])\n",
    "\n",
    "# plot the boxes\n",
    "plt.show()"
   ]
  },
  {
   "cell_type": "code",
   "execution_count": 9,
   "metadata": {},
   "outputs": [],
   "source": [
    "# plt.show()"
   ]
  },
  {
   "cell_type": "markdown",
   "metadata": {},
   "source": [
    "# Plot Horizontally with different colors:"
   ]
  },
  {
   "cell_type": "code",
   "execution_count": 12,
   "metadata": {
    "scrolled": true
   },
   "outputs": [
    {
     "data": {
      "image/png": "[encoded data removed]",
      "text/plain": [
       "<Figure size 432x288 with 1 Axes>"
      ]
     },
     "metadata": {
      "needs_background": "light"
     },
     "output_type": "display_data"
    }
   ],
   "source": [
    "# Render the above plots horizontally (vert=0), and assign different color to each box\n",
    "import matplotlib.pyplot as plth\n",
    " \n",
    "value1 = [82,76,24,40,67,62,75,78,71,32,98,89,78,67,72,82,87,66,56,52]\n",
    "value2 = [62,5,91,25,36,32,96,95,3,90,95,32,27,55,100,15,71,11,37,21]\n",
    "value3 = [23,89,12,78,72,89,25,69,68,86,19,49,15,16,16,75,65,31,25,52]\n",
    "value4 = [59,73,70,16,81,61,88,98,10,87,29,72,16,23,72,88,78,99,75,30]\n",
    "\n",
    "# Create a 2D array from the dataset series shown above\n",
    "box_plot_data=[value1,value2,value3,value4]\n",
    "\n",
    "# print(box_plot_data)\n",
    "# Plot the boxes with assigned colors\n",
    "box=plth.boxplot(box_plot_data, vert=0, patch_artist=True, labels=['course1','course2','course3','course4'])\n",
    " \n",
    "colors = ['grey', 'blue', 'yellow', 'red']\n",
    "for patch, color in zip(box['boxes'], colors):\n",
    "    patch.set_facecolor(color)\n",
    "\n",
    "    # plot the set of colored horizontal boxes \n",
    "plth.show()\n"
   ]
  },
  {
   "cell_type": "markdown",
   "metadata": {},
   "source": [
    "# Compare box plots to alternatives, for example – histograms, kde, etc..."
   ]
  },
  {
   "cell_type": "markdown",
   "metadata": {},
   "source": [
    "## Highlight\n",
    "1. The box plot allows quick graphical examination of one or more data sets. [4]. Box plots are useful for identifying outliers and for comparing distributions.\n",
    "2. Box plots may seem more primitive than a histogram or kernel density estimate but they do have some advantages:\n",
    "\n",
    "- They take up less space and are therefore \n",
    "- particularly useful for comparing distributions between several groups or sets of data. \n",
    "\n",
    "- Choice of number and width of bins techniques can heavily influence the appearance of a histogram, and \n",
    "- Choice of bandwidth can heavily influence the appearance of a kernel density estimate.\n",
    "- However, A bar graph is when you have one bar representing a number of something (and usually more than one bar), and you can tell what is representing by looking at the x-axis and you can tell how much there is by looking at y-axis and what number on it corresponds to the top of the graph.\n",
    "\n",
    "- REF[6 https://quizlet.com/152083977/stats-unit-1-histograms-box-plots-flash-cards/\n",
    "\n",
    "## 1. box plots\n",
    "- Shapes (symmetric vs skewed and which is more skewed)\n",
    "- Medians (which one is highest, lowest, etc.)\n",
    "- IQR and range (which one is more variable, with context, and whether medians are diff bc data is more spread out)\n",
    "- Discuss possible outliers and whether they are unusual\n",
    "- Find: low score, median, high score, Q1, Q3, any outliers\n",
    "- Exclude median when finding Q1 and Q3 (always one number, may or may not be in data set)\n",
    "- Draw one line at min, Q1, Q2, A3, max, excluding outliers and make a box over the middle 50%\n",
    "- Draw outliers as dots not connected to lines\n",
    "- Skewed towards the end with a wider box and longer line with some outliers at the end\n",
    "\n",
    "## 2. Dot plots\n",
    "- Each dot represents one piece of data\n",
    "- Shows frequency by number of dots\n",
    "- Scale on the bottom\n",
    "\n",
    "## 3. Histogram\n",
    "- Good for large data sets\n",
    "- Shows quantitative data on the x axis and frequencies on the y axis\n",
    "- No spaces unless there are actual gaps in the data: represents a continuous set of #s \n",
    "- Tallest bar is the most frequent\n",
    "- Each bar is a single group/class in numerically increasing order\n",
    "- Bins must be the same width and not overlap (ex: 5.0-5.9 then 6.0 to 6.9 instead of 5.0-6.0 and 6.0-7.0)\n",
    "\n",
    "\n",
    "## 4. Bar graphs\n",
    "- Can't have a break in the graph or have one bar way wider than the other -- violates the Area Principle\n",
    "- Needs to look proportional\n",
    "- X axis is categorical and the order can be shuffled: has no shape\n",
    "- Talk about highest value, lowest value, interesting features\n",
    "- Can plot frequencies, relative frequencies, percentages\n"
   ]
  },
  {
   "cell_type": "markdown",
   "metadata": {},
   "source": [
    "# REFERENCES:"
   ]
  },
  {
   "cell_type": "markdown",
   "metadata": {},
   "source": [
    "1. https://community.modeanalytics.com/python/tutorial/python-histograms-boxplots-and-distributions/\n",
    "2. http://www.physics.csbsju.edu/stats/box2.html\n",
    "3. https://en.wikipedia.org/wiki/Box_plot\n",
    "4. http://onlinestatbook.com/2/graphing_distributions/boxplots.html\n",
    "5. http://www.datasciencemadesimple.com/box-plot-in-python/\n",
    "6. https://quizlet.com/152083977/stats-unit-1-histograms-box-plots-flash-cards/"
   ]
  },
  {
   "cell_type": "markdown",
   "metadata": {},
   "source": [
    "## End..."
   ]
  },
  {
   "cell_type": "code",
   "execution_count": null,
   "metadata": {},
   "outputs": [],
   "source": []
  }
 ],
 "metadata": {
  "kernelspec": {
   "display_name": "Python 3",
   "language": "python",
   "name": "python3"
  },
  "language_info": {
   "codemirror_mode": {
    "name": "ipython",
    "version": 3
   },
   "file_extension": ".py",
   "mimetype": "text/x-python",
   "name": "python",
   "nbconvert_exporter": "python",
   "pygments_lexer": "ipython3",
   "version": "3.7.1"
  }
 },
 "nbformat": 4,
 "nbformat_minor": 2
}
