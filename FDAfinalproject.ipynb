{
 "cells": [
  {
   "cell_type": "markdown",
   "metadata": {},
   "source": [
    "# Box Plot in data analysis\n",
    "## Abstract\n",
    "The box plot is common in data analysis for investigating individual numerical variables.\n",
    "For data analysis, the boxplot function from the Python package matplotlib.pyplot can be used to create box plots.\n",
    "## In this project, we tried to:\n",
    "Investigate and explain box plots and their uses through the following method: \n",
    "1.\tSummarize the history of the box plot and situations in which it used.\n",
    "2.\tDemonstrate the use of the box plot using data of our choosing\n",
    "3.\tExplain any relevant terminology such as the terms quartile and percentile\n",
    "4.\tCompare the box plot to alternatives, for example – beanplots, histograms, etc.\n",
    "\n",
    "# Submitted by: Francis Adepoju (G00364694)\n"
   ]
  },
  {
   "cell_type": "markdown",
   "metadata": {},
   "source": [
    "# boxplot\n",
    "1. In descriptive statistics, a box plot or boxplot is a method for graphically depicting groups of numerical data through their quartiles (identified by minimum, first quartile, median, third quartile, and maximum). \n",
    "2. Box plots may also have lines extending vertically from the boxes (whiskers) indicating variability outside the upper and lower quartiles, hence the terms box-and-whisker plot and box-and-whisker diagram. \n",
    "3. Outliers may be plotted as individual points. \n",
    "4. Box plots are non-parametric: they display variation in samples of a statistical population without making any assumptions of the underlying statistical distribution (though Tukey's boxplot assumes symmetry for the whiskers and normality for their length). \n",
    "5. The spacings between the different parts of the box indicate the degree of dispersion (spread) and skewness in the data, and show outliers. Outliers may be plotted as individual points.\n",
    "6. In addition to the points themselves, they allow one to visually estimate various L-estimators, notably the interquartile range, midhinge, range, mid-range, and trimean. \n",
    "7. Box plots can be drawn either horizontally or vertically. Box plots received their name from the box in the middle\n",
    "  \n",
    "# Box Plot for the Display of Distribution\n",
    "\n",
    "- The box plot (a.k.a. box and whisker diagram) is a standardized way of displaying the distribution of data based on the five number summary: \n",
    "- minimum, first quartile, median, third quartile, and maximum. \n",
    "- In the simplest box plot the central rectangle spans the first quartile to the third quartile (the interquartile range or IQR). A segment inside the rectangle shows the median and \"whiskers\" above and below the box show the locations of the minimum and maximum.\n",
    "- The components of box plots are as shown in this picture – \n",
    "#### Ref: \n",
    "1. [https://community.modeanalytics.com/python/tutorial/python-histograms-boxplots-and-distributions/ ]\n",
    "2. [http://www.physics.csbsju.edu/stats/box2.html]"
   ]
  },
  {
   "cell_type": "markdown",
   "metadata": {},
   "source": [
    "![IQR1 pic](https://github.com/dewaledr/images/blob/master/IQR1.PNG?raw=true)"
   ]
  },
  {
   "cell_type": "markdown",
   "metadata": {},
   "source": [
    "![IQR1b Swarm](https://github.com/dewaledr/images/blob/master/IQR1b.PNG?raw=true)"
   ]
  },
  {
   "cell_type": "markdown",
   "metadata": {},
   "source": [
    "This simplest possible box plot displays the full range of variation (from min to max), the likely range of variation (the IQR), and a typical value (the median). Not uncommonly real datasets will display surprisingly high maximums or surprisingly low minimums called outliers. \n",
    "#### John Tukey has provided a precise definition for two types of outliers: \n",
    "1. Outliers are either 3×IQR or more above the third quartile or 3×IQR or more below the first quartile. \n",
    "2. Suspected outliers are are slightly more central versions of outliers: either 1.5×IQR or more above the third quartile or 1.5×IQR or more below the first quartile. \n",
    "3. If either type of outlier is present the whisker on the appropriate side is taken to 1.5×IQR from the quartile (the \"inner fence\") rather than the max or min, and individual outlying data points are displayed as unfilled circles (for suspected outliers) or filled circles (for outliers). (The \"outer fence\" is 3×IQR from the quartile.)\n",
    "4. If the data happens to be normally distributed,  IQR = 1.35σ \n",
    "(where σ is the population standard deviation). \n",
    "5. Outliers are expected in normally distributed datasets with more than about 10,000 data-points. Here is an example of 1000 normally distributed data displayed as a box plot: \n",
    "6. Note that outliers are not necessarily \"bad\" data-points; indeed they may well be the most important, most information rich, part of the dataset. Under no circumstances should they be automatically removed from the dataset. Outliers may deserve special consideration: they may be the key to the phenomenon under study or the result of human blunders.\n",
    "\n",
    "### One case of particular concern \n",
    "1. Where a box plot can be deceptive: is when the data are distributed into \"two lumps\" rather than the \"one lump\". A \"bee swarm\" plot shown below indicates that in the dataset there are lots of data near 10 and 15 but relatively few in between. See that a box plot would not give you any evidence of this. \n"
   ]
  },
  {
   "cell_type": "markdown",
   "metadata": {},
   "source": [
    "![IQR2 bee swarm](https://github.com/dewaledr/images/blob/master/IQR2b.png?raw=true)"
   ]
  },
  {
   "cell_type": "code",
   "execution_count": null,
   "metadata": {},
   "outputs": [],
   "source": []
  },
  {
   "cell_type": "markdown",
   "metadata": {},
   "source": [
    "\n",
    "The box plot allows quick graphical examination of one or more data sets. Box plots may seem more primitive than a histogram or kernel density estimate but they do have some advantages:\n",
    "\n",
    "They take up less space and are therefore particularly useful for comparing distributions between several groups or sets of data. \n",
    "\n",
    "Choice of number and width of bins techniques can heavily influence the appearance of a histogram, and choice of bandwidth can heavily influence the appearance of a kernel density estimate.\n",
    "\n",
    "As shown below, comparing the box plot against the probability density function (theoretical histogram) for a normal N(0,1σ2) distribution is culled from wiki to explain boxplot from the point of view of conventional statistical distribution.\n",
    "[https://en.wikipedia.org/wiki/Box_plot ]"
   ]
  },
  {
   "cell_type": "markdown",
   "metadata": {},
   "source": [
    "![IQR3 Mapping](https://github.com/dewaledr/images/blob/master/IQR3.PNG?raw=true)"
   ]
  },
  {
   "cell_type": "code",
   "execution_count": null,
   "metadata": {},
   "outputs": [],
   "source": []
  },
  {
   "cell_type": "code",
   "execution_count": null,
   "metadata": {},
   "outputs": [],
   "source": []
  },
  {
   "cell_type": "code",
   "execution_count": null,
   "metadata": {},
   "outputs": [],
   "source": []
  }
 ],
 "metadata": {
  "kernelspec": {
   "display_name": "Python 3",
   "language": "python",
   "name": "python3"
  },
  "language_info": {
   "codemirror_mode": {
    "name": "ipython",
    "version": 3
   },
   "file_extension": ".py",
   "mimetype": "text/x-python",
   "name": "python",
   "nbconvert_exporter": "python",
   "pygments_lexer": "ipython3",
   "version": "3.7.0"
  }
 },
 "nbformat": 4,
 "nbformat_minor": 2
}
