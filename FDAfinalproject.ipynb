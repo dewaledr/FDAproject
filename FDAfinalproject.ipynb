{
 "cells": [
  {
   "cell_type": "markdown",
   "metadata": {},
   "source": [
    "# Box Plot in data analysis\n",
    "## Abstract\n",
    "The box plot is common in data analysis for investigating individual numerical variables.\n",
    "For data analysis, the boxplot function from the Python package matplotlib.pyplot can be used to create box plots.\n",
    "## In this project, we tried to:\n",
    "Investigate and explain box plots and their uses through the following method: \n",
    "1.\tSummarize the history of the box plot and situations in which it used.\n",
    "2.\tDemonstrate the use of the box plot using data of our choosing\n",
    "3.\tExplain any relevant terminology such as the terms quartile and percentile\n",
    "4.\tCompare the box plot to alternatives, for example – beanplots, histograms, etc.\n",
    "\n",
    "# Submitted by: Francis Adepoju (G00364694)\n"
   ]
  },
  {
   "cell_type": "markdown",
   "metadata": {},
   "source": [
    "**[sqlite3 Python documentation](https://docs.python.org/3.7/library/sqlite3.html)**\n",
    "\n",
    "![SQLite logo](https://upload.wikimedia.org/wikipedia/commons/thumb/3/38/SQLite370.svg/320px-SQLite370.svg.png)\n"
   ]
  },
  {
   "cell_type": "markdown",
   "metadata": {},
   "source": [
    "![mySQL logo](https://github.com/dewaledr/images/blob/master/sqlPic.PNG)\n",
    "      "
   ]
  },
  {
   "cell_type": "code",
   "execution_count": null,
   "metadata": {},
   "outputs": [],
   "source": []
  },
  {
   "cell_type": "code",
   "execution_count": null,
   "metadata": {},
   "outputs": [],
   "source": []
  },
  {
   "cell_type": "markdown",
   "metadata": {},
   "source": [
    "![Logo...](https://github.com/dewaledr/images/blob/master/myDJango.PNG?raw=true)"
   ]
  },
  {
   "cell_type": "code",
   "execution_count": null,
   "metadata": {},
   "outputs": [],
   "source": []
  }
 ],
 "metadata": {
  "kernelspec": {
   "display_name": "Python 3",
   "language": "python",
   "name": "python3"
  },
  "language_info": {
   "codemirror_mode": {
    "name": "ipython",
    "version": 3
   },
   "file_extension": ".py",
   "mimetype": "text/x-python",
   "name": "python",
   "nbconvert_exporter": "python",
   "pygments_lexer": "ipython3",
   "version": "3.7.0"
  }
 },
 "nbformat": 4,
 "nbformat_minor": 2
}
